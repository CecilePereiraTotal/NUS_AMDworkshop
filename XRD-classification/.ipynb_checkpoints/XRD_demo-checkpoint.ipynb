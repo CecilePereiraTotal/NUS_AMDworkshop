{
 "cells": [
  {
   "cell_type": "markdown",
   "metadata": {},
   "source": [
    "# small dataset XRD classification using machine learning"
   ]
  },
  {
   "cell_type": "markdown",
   "metadata": {},
   "source": [
    "## Introduction\n",
    "This is meant to be a (relatively) self-contained example of XRD classifcation on small dataset via physics based data agumentation\n",
    "The overall procedure is:\n",
    "   1. Load the experimental and theorectical XRD spectra with dimenionality labels\n",
    "   2. Data preprocessing for experimental data\n",
    "   3. Data augmentation for both experimental and theorectical spectra based on the characteristics of thin film XRD measurement\n",
    "   4. Perform dimensionlity/space group classification based on the post-processed data\n",
    "   5. Cross validation and hyperparameter tuning"
   ]
  },
  {
   "cell_type": "markdown",
   "metadata": {},
   "source": [
    "## Preload libraries and functions\n",
    "First of all, let's import libraries that will be used in this example"
   ]
  },
  {
   "cell_type": "code",
   "execution_count": 165,
   "metadata": {},
   "outputs": [],
   "source": [
    "import time  \n",
    "from sklearn.metrics import accuracy_score\n",
    "import numpy as np  \n",
    "import matplotlib.pyplot as plt\n",
    "import os\n",
    "import pandas as pd\n",
    "from scipy.signal import savgol_filter\n",
    "from scipy.signal import find_peaks_cwt\n",
    "from sklearn.model_selection import train_test_split\n",
    "import warnings\n",
    "warnings.filterwarnings('ignore')"
   ]
  },
  {
   "cell_type": "markdown",
   "metadata": {},
   "source": [
    "Import multiple classifcation algorithms from scikt-learn"
   ]
  },
  {
   "cell_type": "code",
   "execution_count": 166,
   "metadata": {},
   "outputs": [],
   "source": [
    "# Multinomial Naive Bayes Classifier\n",
    "def naive_bayes_classifier(train_x, train_y):\n",
    "    from sklearn.naive_bayes import MultinomialNB\n",
    "    model = MultinomialNB(alpha=0.01)\n",
    "    model.fit(train_x, train_y)\n",
    "    return model\n",
    "\n",
    "\n",
    "# KNN Classifier\n",
    "def knn_classifier(train_x, train_y):\n",
    "    from sklearn.neighbors import KNeighborsClassifier\n",
    "    model = KNeighborsClassifier(n_neighbors=3)\n",
    "    model.fit(train_x, train_y)\n",
    "    return model\n",
    "\n",
    "\n",
    "# Logistic Regression Classifier\n",
    "def logistic_regression_classifier(train_x, train_y):\n",
    "    from sklearn.linear_model import LogisticRegression\n",
    "    model = LogisticRegression(penalty='l2')\n",
    "    model.fit(train_x, train_y)\n",
    "    return model\n",
    "\n",
    "\n",
    "# Random Forest Classifier\n",
    "def random_forest_classifier(train_x, train_y):\n",
    "    from sklearn.ensemble import RandomForestClassifier\n",
    "    model = RandomForestClassifier(n_estimators=100)\n",
    "    model.fit(train_x, train_y)\n",
    "    return model\n",
    "\n",
    "\n",
    "# Decision Tree Classifier\n",
    "def decision_tree_classifier(train_x, train_y):\n",
    "    from sklearn import tree\n",
    "    model = tree.DecisionTreeClassifier()\n",
    "    model.fit(train_x, train_y)\n",
    "    return model\n",
    "\n",
    "\n",
    "# GBDT(Gradient Boosting Decision Tree) Classifier\n",
    "def gradient_boosting_classifier(train_x, train_y):\n",
    "    from sklearn.ensemble import GradientBoostingClassifier\n",
    "    model = GradientBoostingClassifier(n_estimators=100)\n",
    "    model.fit(train_x, train_y)\n",
    "    return model\n",
    "\n",
    "\n",
    "# SVM Classifier\n",
    "def svm_classifier(train_x, train_y):\n",
    "    from sklearn.svm import SVC\n",
    "    model = SVC(kernel='rbf', probability=True)\n",
    "    model.fit(train_x, train_y)\n",
    "    return model\n",
    "\n",
    "\n",
    "\n",
    " # 3 layer neural network classficiation\n",
    "def mlp_classifier(train_x,train_y):\n",
    "    from sklearn.neural_network import MLPClassifier\n",
    "    model =  MLPClassifier(hidden_layer_sizes=(256,256,256), max_iter=200, alpha=1e-4,\n",
    "                    solver='sgd', verbose=10, tol=1e-6, random_state=1,\n",
    "                    learning_rate_init=.1)\n",
    "    model.fit(train_x,train_y)\n",
    "    return model"
   ]
  },
  {
   "cell_type": "markdown",
   "metadata": {},
   "source": [
    "Let's create functions that can read .ASC and .xy files from subfolders"
   ]
  },
  {
   "cell_type": "code",
   "execution_count": 167,
   "metadata": {},
   "outputs": [],
   "source": [
    "#Gets .ASC files from directory\n",
    "def spectra_list(path,excluded):\n",
    "    file_pth= [os.path.join(d, x) for d, dirs, files in os.walk(path) for x in files if x.endswith(\".ASC\") and excluded not in x]\n",
    "    return file_pth\n",
    "#Gets .XY files from directory\n",
    "def spectra_list2(path):\n",
    "    file_pth= [os.path.join(d, x) for d, dirs, files in os.walk(path) for x in files if x.endswith(\".xy\")]\n",
    "    return file_pth\n",
    "#Groups all curves within a symmetry group into as single dataframe\n",
    "def group(spectra,k):\n",
    "    groups=[]\n",
    "    for indx,vals in enumerate(spectra[k]):\n",
    "        groups.append(pd.read_csv(spectra[k][indx], delim_whitespace=True, header=None))\n",
    "        df=pd.concat(groups, axis=1)\n",
    "    return df"
   ]
  },
  {
   "cell_type": "markdown",
   "metadata": {},
   "source": [
    "Since the XRD intensities are arbitatry units, we will scale the XRD intensities from 0 to 1 for ML input. Let's define functions that normalize the data from 0 to 1 based on the data structure. You can use min_max scaler from SK learn but since the data strucuture is not starndardized. We fine our own min_max scaler"
   ]
  },
  {
   "cell_type": "code",
   "execution_count": 168,
   "metadata": {},
   "outputs": [],
   "source": [
    "#data normalization from 0 to 1 for double column dataframe\n",
    "def normdata(data):\n",
    "    (len1,w1) = np.shape(data)\n",
    "    ndata = np.zeros([len1,w1//2])\n",
    "    for i in range(w1//2):\n",
    "        ndata[:,i]=(data[:,2*i+1]-min(data[:,2*i+1]))/(max(data[:,2*i+1])-min(data[:,2*i+1]))\n",
    "    return ndata\n",
    "#data normalization from 0 to 1 for single column dataframe\n",
    "def normdatasingle(data):\n",
    "    (len1,w1) = np.shape(data)\n",
    "    ndata = np.zeros([len1,w1])\n",
    "    for i in range(w1):\n",
    "        ndata[:,i]=(data[:,i]-min(data[:,i]))/(max(data[:,i])-min(data[:,i]))\n",
    "    return ndata"
   ]
  },
  {
   "cell_type": "markdown",
   "metadata": {},
   "source": [
    "We only have <200 specta in our subfolders, let's define data augmention functions based on our domain knowledge on thin-film and power XRD spectrum"
   ]
  },
  {
   "cell_type": "code",
   "execution_count": 169,
   "metadata": {},
   "outputs": [],
   "source": [
    "#data augmendatation for simulated XRD spectrum\n",
    "def augdata(data,num,dframe,minn,maxn,labels):\n",
    "    np.random.seed(1234)\n",
    "    (len1,w1) = np.shape(data)\n",
    "    augd =np.zeros([len1,num])\n",
    "    naugd=np.zeros([len1,num])\n",
    "    newaugd=np.zeros([len1,num])\n",
    "    crop_augd = np.zeros([maxn-minn,num])\n",
    "    par1 = labels\n",
    "    pard = []\n",
    "    for i in range(num):\n",
    "        rnd = np.random.randint(0,w1)\n",
    "        # create the first filter for peak elimination\n",
    "        dumb= np.repeat(np.random.choice([0,1,1],300),len1//300)\n",
    "        dumb1= np.append(dumb,np.zeros([len1-len(dumb),]))\n",
    "        # create the second filter for peak scaling\n",
    "        dumbrnd= np.repeat(np.random.rand(100,),len1//100)\n",
    "        dumbrnd1=np.append(dumbrnd,np.zeros([len1-len(dumbrnd),]))\n",
    "        #peak eleminsation and scaling\n",
    "        augd[:,i] = np.multiply((data[:,rnd]),dumbrnd1)\n",
    "        augd[:,i] = np.multiply(augd[:,i],dumb1)\n",
    "        #nomrlization\n",
    "        naugd[:,i] = (augd[:,i]-min(augd[:,i]))/(max(augd[:,i])-min(augd[:,i])+1e-9)\n",
    "        pard.append (par1[2*rnd])\n",
    "        #adding shift\n",
    "        cut = np.random.randint(-20*1,20)\n",
    "        #XRD spectrum shift to left\n",
    "        if cut>=0:\n",
    "            newaugd[:,i] = np.append(naugd[cut:,i],np.zeros([cut,]))\n",
    "        #XRD spectrum shift to right\n",
    "        else:\n",
    "            newaugd[:,i] = np.append(naugd[0:len1+cut,i],np.zeros([cut*-1,]))\n",
    "\n",
    "        crop_augd[:,i] = newaugd[minn:maxn,i]\n",
    "#\n",
    "    return newaugd, pard,crop_augd\n",
    "#data augmendatation for experimental XRD spectrum\n",
    "def exp_augdata(data,num,label):\n",
    "    np.random.seed(1234)\n",
    "    (len1,w1) = np.shape(data)\n",
    "    augd =np.zeros([len1,num])\n",
    "    naugd=np.zeros([len1,num])\n",
    "    newaugd=np.zeros([len1,num])\n",
    "    par=np.zeros([num,])\n",
    "    for i in range(num):\n",
    "        rnd = np.random.randint(0,w1)\n",
    "\n",
    "        # create the first filter for peak elimination\n",
    "        dumb= np.repeat(np.random.choice([0,1,1],300),len1//300)\n",
    "        dumb1= np.append(dumb,np.zeros([len1-len(dumb),]))\n",
    "        # create the second filter for peak scaling\n",
    "        dumbrnd= np.repeat(np.random.rand(200,),len1//200)\n",
    "        dumbrnd1=np.append(dumbrnd,np.zeros([len1-len(dumbrnd),]))\n",
    "        #peak eleminsation and scaling\n",
    "        augd[:,i] = np.multiply((data[:,rnd]),dumbrnd1)\n",
    "        augd[:,i] = np.multiply(augd[:,i],dumb1)\n",
    "        #nomrlization\n",
    "        naugd[:,i] = (augd[:,i]-min(augd[:,i]))/(max(augd[:,i])-min(augd[:,i])+1e-9)\n",
    "        par[i,] =label[rnd,]\n",
    "        #adding shift\n",
    "        cut = np.random.randint(-20*1,20)\n",
    "        #XRD spectrum shift to left\n",
    "        if cut>=0:\n",
    "            newaugd[:,i] = np.append(naugd[cut:,i],np.zeros([cut,]))\n",
    "        #XRD spectrum shift to right\n",
    "        else:\n",
    "            newaugd[:,i] = np.append(naugd[0:len1+cut,i],np.zeros([cut*-1,]))\n",
    "\n",
    "    return newaugd, par"
   ]
  },
  {
   "cell_type": "markdown",
   "metadata": {},
   "source": [
    "The experimental data contains noise and background. Let's write a function to remove it."
   ]
  },
  {
   "cell_type": "code",
   "execution_count": 170,
   "metadata": {},
   "outputs": [],
   "source": [
    "#extracting exprimental data\n",
    "def exp_data_processing (data,minn,maxn,window):\n",
    "    (len1,w1) = np.shape(data)\n",
    "    nexp1 =np.zeros([maxn-minn,w1])\n",
    "    for i in range(w1):\n",
    "        #savgol_filter to smooth the data\n",
    "         new1 = savgol_filter(data[minn:maxn,i], 31, 3)\n",
    "         #peak finding\n",
    "         zf= find_peaks_cwt(new1, np.arange(10,15), noise_perc=0.01)\n",
    "         #background substraction\n",
    "         for j in range(len(zf)-1):\n",
    "             zf_start= np.maximum(0,zf[j+1]-window//2)\n",
    "             zf_end = np.minimum(zf[j+1]+window//2,maxn)\n",
    "             peak = new1[zf_start:zf_end]\n",
    "\n",
    "             ##abritaryly remove 1/4 data\n",
    "             npeak = np.maximum(0,peak-max(np.partition(peak,window//5 )[0:window//5]))\n",
    "             nexp1[zf_start:zf_end,i]= npeak\n",
    "    return nexp1"
   ]
  },
  {
   "cell_type": "markdown",
   "metadata": {},
   "source": [
    "## 1. Load the data\n",
    "The XRD spectrums contain both experimental and theorectal data. The theorectal spectra are power XRD spectra which comes from ICSD database. ICSD prohibits distributing their data . Hence, modifed data is used for this demo. The compound formular of each XRD spectra is also not given due to potential confilcts of interests.\n"
   ]
  },
  {
   "cell_type": "code",
   "execution_count": 171,
   "metadata": {},
   "outputs": [],
   "source": [
    "# Load simulated XRD spectra\n",
    "\n",
    "theor=pd.read_csv('theor.csv',header=None)\n",
    "\n",
    "# Load meaured XRD spectra\n",
    "\n",
    "exp=pd.read_csv('exp.csv',header=None)"
   ]
  },
  {
   "cell_type": "markdown",
   "metadata": {},
   "source": [
    "We can take a look at the data"
   ]
  },
  {
   "cell_type": "code",
   "execution_count": 172,
   "metadata": {
    "collapsed": true
   },
   "outputs": [
    {
     "data": {
      "text/html": [
       "<div>\n",
       "<style scoped>\n",
       "    .dataframe tbody tr th:only-of-type {\n",
       "        vertical-align: middle;\n",
       "    }\n",
       "\n",
       "    .dataframe tbody tr th {\n",
       "        vertical-align: top;\n",
       "    }\n",
       "\n",
       "    .dataframe thead th {\n",
       "        text-align: right;\n",
       "    }\n",
       "</style>\n",
       "<table border=\"1\" class=\"dataframe\">\n",
       "  <thead>\n",
       "    <tr style=\"text-align: right;\">\n",
       "      <th></th>\n",
       "      <th>0</th>\n",
       "      <th>1</th>\n",
       "      <th>2</th>\n",
       "      <th>3</th>\n",
       "      <th>4</th>\n",
       "      <th>5</th>\n",
       "      <th>6</th>\n",
       "      <th>7</th>\n",
       "      <th>8</th>\n",
       "      <th>9</th>\n",
       "      <th>...</th>\n",
       "      <th>318</th>\n",
       "      <th>319</th>\n",
       "      <th>320</th>\n",
       "      <th>321</th>\n",
       "      <th>322</th>\n",
       "      <th>323</th>\n",
       "      <th>324</th>\n",
       "      <th>325</th>\n",
       "      <th>326</th>\n",
       "      <th>327</th>\n",
       "    </tr>\n",
       "  </thead>\n",
       "  <tbody>\n",
       "    <tr>\n",
       "      <th>0</th>\n",
       "      <td>0D</td>\n",
       "      <td>0D</td>\n",
       "      <td>0D</td>\n",
       "      <td>0D</td>\n",
       "      <td>0D</td>\n",
       "      <td>0D</td>\n",
       "      <td>0D</td>\n",
       "      <td>0D</td>\n",
       "      <td>0D</td>\n",
       "      <td>0D</td>\n",
       "      <td>...</td>\n",
       "      <td>3D</td>\n",
       "      <td>3D</td>\n",
       "      <td>3D</td>\n",
       "      <td>3D</td>\n",
       "      <td>3D</td>\n",
       "      <td>3D</td>\n",
       "      <td>3D</td>\n",
       "      <td>3D</td>\n",
       "      <td>3D</td>\n",
       "      <td>3D</td>\n",
       "    </tr>\n",
       "    <tr>\n",
       "      <th>1</th>\n",
       "      <td>5.039999962</td>\n",
       "      <td>1500</td>\n",
       "      <td>5.039999962</td>\n",
       "      <td>1500</td>\n",
       "      <td>5.039999962</td>\n",
       "      <td>1500</td>\n",
       "      <td>5.039999962</td>\n",
       "      <td>1500</td>\n",
       "      <td>5.039999962</td>\n",
       "      <td>1500</td>\n",
       "      <td>...</td>\n",
       "      <td>5.039999962</td>\n",
       "      <td>1500</td>\n",
       "      <td>5.039999962</td>\n",
       "      <td>1500</td>\n",
       "      <td>5.039999962</td>\n",
       "      <td>1500</td>\n",
       "      <td>5.039999962</td>\n",
       "      <td>1500</td>\n",
       "      <td>5.039999962</td>\n",
       "      <td>1500</td>\n",
       "    </tr>\n",
       "    <tr>\n",
       "      <th>2</th>\n",
       "      <td>5.079999961</td>\n",
       "      <td>1500</td>\n",
       "      <td>5.079999961</td>\n",
       "      <td>1500</td>\n",
       "      <td>5.079999961</td>\n",
       "      <td>1500</td>\n",
       "      <td>5.079999961</td>\n",
       "      <td>1500</td>\n",
       "      <td>5.079999961</td>\n",
       "      <td>1500</td>\n",
       "      <td>...</td>\n",
       "      <td>5.079999961</td>\n",
       "      <td>1500</td>\n",
       "      <td>5.079999961</td>\n",
       "      <td>1500</td>\n",
       "      <td>5.079999961</td>\n",
       "      <td>1500</td>\n",
       "      <td>5.079999961</td>\n",
       "      <td>1500</td>\n",
       "      <td>5.079999961</td>\n",
       "      <td>1500</td>\n",
       "    </tr>\n",
       "    <tr>\n",
       "      <th>3</th>\n",
       "      <td>5.11999996</td>\n",
       "      <td>1500</td>\n",
       "      <td>5.11999996</td>\n",
       "      <td>1500</td>\n",
       "      <td>5.11999996</td>\n",
       "      <td>1500</td>\n",
       "      <td>5.11999996</td>\n",
       "      <td>1500</td>\n",
       "      <td>5.11999996</td>\n",
       "      <td>1500</td>\n",
       "      <td>...</td>\n",
       "      <td>5.11999996</td>\n",
       "      <td>1500</td>\n",
       "      <td>5.11999996</td>\n",
       "      <td>1500</td>\n",
       "      <td>5.11999996</td>\n",
       "      <td>1500</td>\n",
       "      <td>5.11999996</td>\n",
       "      <td>1500</td>\n",
       "      <td>5.11999996</td>\n",
       "      <td>1500</td>\n",
       "    </tr>\n",
       "    <tr>\n",
       "      <th>4</th>\n",
       "      <td>5.159999959</td>\n",
       "      <td>1500</td>\n",
       "      <td>5.159999959</td>\n",
       "      <td>1500</td>\n",
       "      <td>5.159999959</td>\n",
       "      <td>1500</td>\n",
       "      <td>5.159999959</td>\n",
       "      <td>1500</td>\n",
       "      <td>5.159999959</td>\n",
       "      <td>1500</td>\n",
       "      <td>...</td>\n",
       "      <td>5.159999959</td>\n",
       "      <td>1500</td>\n",
       "      <td>5.159999959</td>\n",
       "      <td>1500</td>\n",
       "      <td>5.159999959</td>\n",
       "      <td>1500</td>\n",
       "      <td>5.159999959</td>\n",
       "      <td>1500</td>\n",
       "      <td>5.159999959</td>\n",
       "      <td>1500</td>\n",
       "    </tr>\n",
       "    <tr>\n",
       "      <th>5</th>\n",
       "      <td>5.199999958</td>\n",
       "      <td>1500</td>\n",
       "      <td>5.199999958</td>\n",
       "      <td>1500</td>\n",
       "      <td>5.199999958</td>\n",
       "      <td>1500</td>\n",
       "      <td>5.199999958</td>\n",
       "      <td>1500</td>\n",
       "      <td>5.199999958</td>\n",
       "      <td>1500</td>\n",
       "      <td>...</td>\n",
       "      <td>5.199999958</td>\n",
       "      <td>1500</td>\n",
       "      <td>5.199999958</td>\n",
       "      <td>1500</td>\n",
       "      <td>5.199999958</td>\n",
       "      <td>1500</td>\n",
       "      <td>5.199999958</td>\n",
       "      <td>1500</td>\n",
       "      <td>5.199999958</td>\n",
       "      <td>1500</td>\n",
       "    </tr>\n",
       "    <tr>\n",
       "      <th>6</th>\n",
       "      <td>5.239999957</td>\n",
       "      <td>1500</td>\n",
       "      <td>5.239999957</td>\n",
       "      <td>1500</td>\n",
       "      <td>5.239999957</td>\n",
       "      <td>1500</td>\n",
       "      <td>5.239999957</td>\n",
       "      <td>1500</td>\n",
       "      <td>5.239999957</td>\n",
       "      <td>1500</td>\n",
       "      <td>...</td>\n",
       "      <td>5.239999957</td>\n",
       "      <td>1500</td>\n",
       "      <td>5.239999957</td>\n",
       "      <td>1500</td>\n",
       "      <td>5.239999957</td>\n",
       "      <td>1500</td>\n",
       "      <td>5.239999957</td>\n",
       "      <td>1500</td>\n",
       "      <td>5.239999957</td>\n",
       "      <td>1500</td>\n",
       "    </tr>\n",
       "    <tr>\n",
       "      <th>7</th>\n",
       "      <td>5.279999956</td>\n",
       "      <td>1500</td>\n",
       "      <td>5.279999956</td>\n",
       "      <td>1500</td>\n",
       "      <td>5.279999956</td>\n",
       "      <td>1500</td>\n",
       "      <td>5.279999956</td>\n",
       "      <td>1500</td>\n",
       "      <td>5.279999956</td>\n",
       "      <td>1500</td>\n",
       "      <td>...</td>\n",
       "      <td>5.279999956</td>\n",
       "      <td>1500</td>\n",
       "      <td>5.279999956</td>\n",
       "      <td>1500</td>\n",
       "      <td>5.279999956</td>\n",
       "      <td>1500</td>\n",
       "      <td>5.279999956</td>\n",
       "      <td>1500</td>\n",
       "      <td>5.279999956</td>\n",
       "      <td>1500</td>\n",
       "    </tr>\n",
       "    <tr>\n",
       "      <th>8</th>\n",
       "      <td>5.319999956</td>\n",
       "      <td>1500</td>\n",
       "      <td>5.319999956</td>\n",
       "      <td>1500</td>\n",
       "      <td>5.319999956</td>\n",
       "      <td>1500</td>\n",
       "      <td>5.319999956</td>\n",
       "      <td>1500</td>\n",
       "      <td>5.319999956</td>\n",
       "      <td>1500</td>\n",
       "      <td>...</td>\n",
       "      <td>5.319999956</td>\n",
       "      <td>1500</td>\n",
       "      <td>5.319999956</td>\n",
       "      <td>1500</td>\n",
       "      <td>5.319999956</td>\n",
       "      <td>1500</td>\n",
       "      <td>5.319999956</td>\n",
       "      <td>1500</td>\n",
       "      <td>5.319999956</td>\n",
       "      <td>1500</td>\n",
       "    </tr>\n",
       "    <tr>\n",
       "      <th>9</th>\n",
       "      <td>5.359999955</td>\n",
       "      <td>1500</td>\n",
       "      <td>5.359999955</td>\n",
       "      <td>1500</td>\n",
       "      <td>5.359999955</td>\n",
       "      <td>1500</td>\n",
       "      <td>5.359999955</td>\n",
       "      <td>1500</td>\n",
       "      <td>5.359999955</td>\n",
       "      <td>1500</td>\n",
       "      <td>...</td>\n",
       "      <td>5.359999955</td>\n",
       "      <td>1500</td>\n",
       "      <td>5.359999955</td>\n",
       "      <td>1500</td>\n",
       "      <td>5.359999955</td>\n",
       "      <td>1500</td>\n",
       "      <td>5.359999955</td>\n",
       "      <td>1500</td>\n",
       "      <td>5.359999955</td>\n",
       "      <td>1500</td>\n",
       "    </tr>\n",
       "  </tbody>\n",
       "</table>\n",
       "<p>10 rows × 328 columns</p>\n",
       "</div>"
      ],
      "text/plain": [
       "           0     1            2     3            4     5            6     7    \\\n",
       "0           0D    0D           0D    0D           0D    0D           0D    0D   \n",
       "1  5.039999962  1500  5.039999962  1500  5.039999962  1500  5.039999962  1500   \n",
       "2  5.079999961  1500  5.079999961  1500  5.079999961  1500  5.079999961  1500   \n",
       "3   5.11999996  1500   5.11999996  1500   5.11999996  1500   5.11999996  1500   \n",
       "4  5.159999959  1500  5.159999959  1500  5.159999959  1500  5.159999959  1500   \n",
       "5  5.199999958  1500  5.199999958  1500  5.199999958  1500  5.199999958  1500   \n",
       "6  5.239999957  1500  5.239999957  1500  5.239999957  1500  5.239999957  1500   \n",
       "7  5.279999956  1500  5.279999956  1500  5.279999956  1500  5.279999956  1500   \n",
       "8  5.319999956  1500  5.319999956  1500  5.319999956  1500  5.319999956  1500   \n",
       "9  5.359999955  1500  5.359999955  1500  5.359999955  1500  5.359999955  1500   \n",
       "\n",
       "           8     9    ...           318   319          320   321          322  \\\n",
       "0           0D    0D  ...            3D    3D           3D    3D           3D   \n",
       "1  5.039999962  1500  ...   5.039999962  1500  5.039999962  1500  5.039999962   \n",
       "2  5.079999961  1500  ...   5.079999961  1500  5.079999961  1500  5.079999961   \n",
       "3   5.11999996  1500  ...    5.11999996  1500   5.11999996  1500   5.11999996   \n",
       "4  5.159999959  1500  ...   5.159999959  1500  5.159999959  1500  5.159999959   \n",
       "5  5.199999958  1500  ...   5.199999958  1500  5.199999958  1500  5.199999958   \n",
       "6  5.239999957  1500  ...   5.239999957  1500  5.239999957  1500  5.239999957   \n",
       "7  5.279999956  1500  ...   5.279999956  1500  5.279999956  1500  5.279999956   \n",
       "8  5.319999956  1500  ...   5.319999956  1500  5.319999956  1500  5.319999956   \n",
       "9  5.359999955  1500  ...   5.359999955  1500  5.359999955  1500  5.359999955   \n",
       "\n",
       "    323          324   325          326   327  \n",
       "0    3D           3D    3D           3D    3D  \n",
       "1  1500  5.039999962  1500  5.039999962  1500  \n",
       "2  1500  5.079999961  1500  5.079999961  1500  \n",
       "3  1500   5.11999996  1500   5.11999996  1500  \n",
       "4  1500  5.159999959  1500  5.159999959  1500  \n",
       "5  1500  5.199999958  1500  5.199999958  1500  \n",
       "6  1500  5.239999957  1500  5.239999957  1500  \n",
       "7  1500  5.279999956  1500  5.279999956  1500  \n",
       "8  1500  5.319999956  1500  5.319999956  1500  \n",
       "9  1500  5.359999955  1500  5.359999955  1500  \n",
       "\n",
       "[10 rows x 328 columns]"
      ]
     },
     "execution_count": 172,
     "metadata": {},
     "output_type": "execute_result"
    }
   ],
   "source": [
    "theor.head(10)"
   ]
  },
  {
   "cell_type": "markdown",
   "metadata": {},
   "source": [
    "Let's convert this big matrix from string to number and take out the first row as \"labels\" for our machine learning problem"
   ]
  },
  {
   "cell_type": "code",
   "execution_count": 173,
   "metadata": {},
   "outputs": [],
   "source": [
    "#label\n",
    "theor_labels= theor.iloc[0]\n",
    "#take out the first row\n",
    "theor = theor.drop(theor.index[0])\n",
    "#convert from string to number\n",
    "theor = theor.apply(pd.to_numeric, errors='coerce')\n",
    "#convert from pandas dataframe to numpy array\n",
    "theor_arr=theor.as_matrix()\n",
    "#normalization\n",
    "ntheor = normdata (theor_arr)"
   ]
  },
  {
   "cell_type": "markdown",
   "metadata": {},
   "source": [
    "Let's plot the theorectical spectra"
   ]
  },
  {
   "cell_type": "code",
   "execution_count": 174,
   "metadata": {
    "collapsed": true
   },
   "outputs": [
    {
     "data": {
      "image/png": "[encoded data removed]",
      "text/plain": [
       "<Figure size 432x288 with 1 Axes>"
      ]
     },
     "metadata": {},
     "output_type": "display_data"
    }
   ],
   "source": [
    "plt.plot(theor_arr[:,0],theor_arr[:,1],label='Theorectical')\n",
    "plt.xlabel('2theta angle[degrees]')\n",
    "plt.ylabel('Intensity [a.u.]')\n",
    "plt.show()"
   ]
  },
  {
   "cell_type": "code",
   "execution_count": 175,
   "metadata": {
    "collapsed": true
   },
   "outputs": [
    {
     "data": {
      "image/png": "[encoded data removed]",
      "text/plain": [
       "<Figure size 432x288 with 1 Axes>"
      ]
     },
     "metadata": {},
     "output_type": "display_data"
    }
   ],
   "source": [
    "plt.plot(theor_arr[:,0],ntheor[:,0],label='Theorectical')\n",
    "plt.xlabel('2theta angle[degrees]')\n",
    "plt.ylabel('Normalized Intensity [a.u.]')\n",
    "plt.show()"
   ]
  },
  {
   "cell_type": "markdown",
   "metadata": {},
   "source": [
    "What is size of our theorectical XRD spectra"
   ]
  },
  {
   "cell_type": "code",
   "execution_count": 176,
   "metadata": {
    "collapsed": true
   },
   "outputs": [
    {
     "data": {
      "text/plain": [
       "(2125, 164)"
      ]
     },
     "execution_count": 176,
     "metadata": {},
     "output_type": "execute_result"
    }
   ],
   "source": [
    "ntheor.shape"
   ]
  },
  {
   "cell_type": "markdown",
   "metadata": {},
   "source": [
    "Let's have a look at the experimental spectra"
   ]
  },
  {
   "cell_type": "code",
   "execution_count": 177,
   "metadata": {
    "collapsed": true
   },
   "outputs": [
    {
     "data": {
      "text/html": [
       "<div>\n",
       "<style scoped>\n",
       "    .dataframe tbody tr th:only-of-type {\n",
       "        vertical-align: middle;\n",
       "    }\n",
       "\n",
       "    .dataframe tbody tr th {\n",
       "        vertical-align: top;\n",
       "    }\n",
       "\n",
       "    .dataframe thead th {\n",
       "        text-align: right;\n",
       "    }\n",
       "</style>\n",
       "<table border=\"1\" class=\"dataframe\">\n",
       "  <thead>\n",
       "    <tr style=\"text-align: right;\">\n",
       "      <th></th>\n",
       "      <th>0</th>\n",
       "      <th>1</th>\n",
       "      <th>2</th>\n",
       "      <th>3</th>\n",
       "      <th>4</th>\n",
       "      <th>5</th>\n",
       "      <th>6</th>\n",
       "      <th>7</th>\n",
       "      <th>8</th>\n",
       "      <th>9</th>\n",
       "      <th>...</th>\n",
       "      <th>136</th>\n",
       "      <th>137</th>\n",
       "      <th>138</th>\n",
       "      <th>139</th>\n",
       "      <th>140</th>\n",
       "      <th>141</th>\n",
       "      <th>142</th>\n",
       "      <th>143</th>\n",
       "      <th>144</th>\n",
       "      <th>145</th>\n",
       "    </tr>\n",
       "  </thead>\n",
       "  <tbody>\n",
       "    <tr>\n",
       "      <th>0</th>\n",
       "      <td>0D</td>\n",
       "      <td>0D</td>\n",
       "      <td>0D</td>\n",
       "      <td>0D</td>\n",
       "      <td>0D</td>\n",
       "      <td>0D</td>\n",
       "      <td>0D</td>\n",
       "      <td>0D</td>\n",
       "      <td>0D</td>\n",
       "      <td>0D</td>\n",
       "      <td>...</td>\n",
       "      <td>3D</td>\n",
       "      <td>3D</td>\n",
       "      <td>3D</td>\n",
       "      <td>3D</td>\n",
       "      <td>3D</td>\n",
       "      <td>3D</td>\n",
       "      <td>3D</td>\n",
       "      <td>3D</td>\n",
       "      <td>3D</td>\n",
       "      <td>3D</td>\n",
       "    </tr>\n",
       "    <tr>\n",
       "      <th>1</th>\n",
       "      <td>5</td>\n",
       "      <td>1457</td>\n",
       "      <td>5</td>\n",
       "      <td>1657</td>\n",
       "      <td>5</td>\n",
       "      <td>1539</td>\n",
       "      <td>5</td>\n",
       "      <td>1374</td>\n",
       "      <td>5</td>\n",
       "      <td>1445</td>\n",
       "      <td>...</td>\n",
       "      <td>5</td>\n",
       "      <td>591</td>\n",
       "      <td>5</td>\n",
       "      <td>1041</td>\n",
       "      <td>5</td>\n",
       "      <td>641</td>\n",
       "      <td>5</td>\n",
       "      <td>5378</td>\n",
       "      <td>5</td>\n",
       "      <td>1412</td>\n",
       "    </tr>\n",
       "    <tr>\n",
       "      <th>2</th>\n",
       "      <td>5.04</td>\n",
       "      <td>1420</td>\n",
       "      <td>5.04</td>\n",
       "      <td>1654</td>\n",
       "      <td>5.04</td>\n",
       "      <td>1352</td>\n",
       "      <td>5.04</td>\n",
       "      <td>1348</td>\n",
       "      <td>5.04</td>\n",
       "      <td>1464</td>\n",
       "      <td>...</td>\n",
       "      <td>5.04</td>\n",
       "      <td>575</td>\n",
       "      <td>5.04</td>\n",
       "      <td>1058</td>\n",
       "      <td>5.04</td>\n",
       "      <td>627</td>\n",
       "      <td>5.04</td>\n",
       "      <td>5314</td>\n",
       "      <td>5.04</td>\n",
       "      <td>1408</td>\n",
       "    </tr>\n",
       "    <tr>\n",
       "      <th>3</th>\n",
       "      <td>5.08</td>\n",
       "      <td>1379</td>\n",
       "      <td>5.08</td>\n",
       "      <td>1650</td>\n",
       "      <td>5.08</td>\n",
       "      <td>1377</td>\n",
       "      <td>5.08</td>\n",
       "      <td>1358</td>\n",
       "      <td>5.08</td>\n",
       "      <td>1348</td>\n",
       "      <td>...</td>\n",
       "      <td>5.08</td>\n",
       "      <td>575</td>\n",
       "      <td>5.08</td>\n",
       "      <td>1038</td>\n",
       "      <td>5.08</td>\n",
       "      <td>591</td>\n",
       "      <td>5.08</td>\n",
       "      <td>5356</td>\n",
       "      <td>5.08</td>\n",
       "      <td>1451</td>\n",
       "    </tr>\n",
       "    <tr>\n",
       "      <th>4</th>\n",
       "      <td>5.12</td>\n",
       "      <td>1336</td>\n",
       "      <td>5.12</td>\n",
       "      <td>1594</td>\n",
       "      <td>5.12</td>\n",
       "      <td>1346</td>\n",
       "      <td>5.12</td>\n",
       "      <td>1403</td>\n",
       "      <td>5.12</td>\n",
       "      <td>1405</td>\n",
       "      <td>...</td>\n",
       "      <td>5.12</td>\n",
       "      <td>627</td>\n",
       "      <td>5.12</td>\n",
       "      <td>1047</td>\n",
       "      <td>5.12</td>\n",
       "      <td>599</td>\n",
       "      <td>5.12</td>\n",
       "      <td>5153</td>\n",
       "      <td>5.12</td>\n",
       "      <td>1418</td>\n",
       "    </tr>\n",
       "    <tr>\n",
       "      <th>5</th>\n",
       "      <td>5.16</td>\n",
       "      <td>1305</td>\n",
       "      <td>5.16</td>\n",
       "      <td>1583</td>\n",
       "      <td>5.16</td>\n",
       "      <td>1375</td>\n",
       "      <td>5.16</td>\n",
       "      <td>1332</td>\n",
       "      <td>5.16</td>\n",
       "      <td>1336</td>\n",
       "      <td>...</td>\n",
       "      <td>5.16</td>\n",
       "      <td>586</td>\n",
       "      <td>5.16</td>\n",
       "      <td>1001</td>\n",
       "      <td>5.16</td>\n",
       "      <td>563</td>\n",
       "      <td>5.16</td>\n",
       "      <td>5196</td>\n",
       "      <td>5.16</td>\n",
       "      <td>1375</td>\n",
       "    </tr>\n",
       "    <tr>\n",
       "      <th>6</th>\n",
       "      <td>5.2</td>\n",
       "      <td>1384</td>\n",
       "      <td>5.2</td>\n",
       "      <td>1598</td>\n",
       "      <td>5.2</td>\n",
       "      <td>1353</td>\n",
       "      <td>5.2</td>\n",
       "      <td>1355</td>\n",
       "      <td>5.2</td>\n",
       "      <td>1347</td>\n",
       "      <td>...</td>\n",
       "      <td>5.2</td>\n",
       "      <td>619</td>\n",
       "      <td>5.2</td>\n",
       "      <td>993</td>\n",
       "      <td>5.2</td>\n",
       "      <td>591</td>\n",
       "      <td>5.2</td>\n",
       "      <td>5402</td>\n",
       "      <td>5.2</td>\n",
       "      <td>1361</td>\n",
       "    </tr>\n",
       "    <tr>\n",
       "      <th>7</th>\n",
       "      <td>5.24</td>\n",
       "      <td>1364</td>\n",
       "      <td>5.24</td>\n",
       "      <td>1573</td>\n",
       "      <td>5.24</td>\n",
       "      <td>1352</td>\n",
       "      <td>5.24</td>\n",
       "      <td>1341</td>\n",
       "      <td>5.24</td>\n",
       "      <td>1352</td>\n",
       "      <td>...</td>\n",
       "      <td>5.24</td>\n",
       "      <td>602</td>\n",
       "      <td>5.24</td>\n",
       "      <td>980</td>\n",
       "      <td>5.24</td>\n",
       "      <td>598</td>\n",
       "      <td>5.24</td>\n",
       "      <td>5056</td>\n",
       "      <td>5.24</td>\n",
       "      <td>1301</td>\n",
       "    </tr>\n",
       "    <tr>\n",
       "      <th>8</th>\n",
       "      <td>5.28</td>\n",
       "      <td>1347</td>\n",
       "      <td>5.28</td>\n",
       "      <td>1572</td>\n",
       "      <td>5.28</td>\n",
       "      <td>1285</td>\n",
       "      <td>5.28</td>\n",
       "      <td>1298</td>\n",
       "      <td>5.28</td>\n",
       "      <td>1344</td>\n",
       "      <td>...</td>\n",
       "      <td>5.28</td>\n",
       "      <td>552</td>\n",
       "      <td>5.28</td>\n",
       "      <td>925</td>\n",
       "      <td>5.28</td>\n",
       "      <td>603</td>\n",
       "      <td>5.28</td>\n",
       "      <td>5118</td>\n",
       "      <td>5.28</td>\n",
       "      <td>1317</td>\n",
       "    </tr>\n",
       "    <tr>\n",
       "      <th>9</th>\n",
       "      <td>5.32</td>\n",
       "      <td>1398</td>\n",
       "      <td>5.32</td>\n",
       "      <td>1528</td>\n",
       "      <td>5.32</td>\n",
       "      <td>1299</td>\n",
       "      <td>5.32</td>\n",
       "      <td>1329</td>\n",
       "      <td>5.32</td>\n",
       "      <td>1384</td>\n",
       "      <td>...</td>\n",
       "      <td>5.32</td>\n",
       "      <td>573</td>\n",
       "      <td>5.32</td>\n",
       "      <td>945</td>\n",
       "      <td>5.32</td>\n",
       "      <td>597</td>\n",
       "      <td>5.32</td>\n",
       "      <td>5149</td>\n",
       "      <td>5.32</td>\n",
       "      <td>1349</td>\n",
       "    </tr>\n",
       "  </tbody>\n",
       "</table>\n",
       "<p>10 rows × 146 columns</p>\n",
       "</div>"
      ],
      "text/plain": [
       "    0     1     2     3     4     5     6     7     8     9    ...    136  \\\n",
       "0    0D    0D    0D    0D    0D    0D    0D    0D    0D    0D  ...     3D   \n",
       "1     5  1457     5  1657     5  1539     5  1374     5  1445  ...      5   \n",
       "2  5.04  1420  5.04  1654  5.04  1352  5.04  1348  5.04  1464  ...   5.04   \n",
       "3  5.08  1379  5.08  1650  5.08  1377  5.08  1358  5.08  1348  ...   5.08   \n",
       "4  5.12  1336  5.12  1594  5.12  1346  5.12  1403  5.12  1405  ...   5.12   \n",
       "5  5.16  1305  5.16  1583  5.16  1375  5.16  1332  5.16  1336  ...   5.16   \n",
       "6   5.2  1384   5.2  1598   5.2  1353   5.2  1355   5.2  1347  ...    5.2   \n",
       "7  5.24  1364  5.24  1573  5.24  1352  5.24  1341  5.24  1352  ...   5.24   \n",
       "8  5.28  1347  5.28  1572  5.28  1285  5.28  1298  5.28  1344  ...   5.28   \n",
       "9  5.32  1398  5.32  1528  5.32  1299  5.32  1329  5.32  1384  ...   5.32   \n",
       "\n",
       "   137   138   139   140  141   142   143   144   145  \n",
       "0   3D    3D    3D    3D   3D    3D    3D    3D    3D  \n",
       "1  591     5  1041     5  641     5  5378     5  1412  \n",
       "2  575  5.04  1058  5.04  627  5.04  5314  5.04  1408  \n",
       "3  575  5.08  1038  5.08  591  5.08  5356  5.08  1451  \n",
       "4  627  5.12  1047  5.12  599  5.12  5153  5.12  1418  \n",
       "5  586  5.16  1001  5.16  563  5.16  5196  5.16  1375  \n",
       "6  619   5.2   993   5.2  591   5.2  5402   5.2  1361  \n",
       "7  602  5.24   980  5.24  598  5.24  5056  5.24  1301  \n",
       "8  552  5.28   925  5.28  603  5.28  5118  5.28  1317  \n",
       "9  573  5.32   945  5.32  597  5.32  5149  5.32  1349  \n",
       "\n",
       "[10 rows x 146 columns]"
      ]
     },
     "execution_count": 177,
     "metadata": {},
     "output_type": "execute_result"
    }
   ],
   "source": [
    "exp.head(10)"
   ]
  },
  {
   "cell_type": "markdown",
   "metadata": {},
   "source": [
    "We will do the same operation as what we have done for the theorectical data"
   ]
  },
  {
   "cell_type": "code",
   "execution_count": 178,
   "metadata": {},
   "outputs": [],
   "source": [
    "#labels\n",
    "exp_labels= exp.iloc[0]\n",
    "#take out the first row\n",
    "exp = exp.drop(exp.index[0])\n",
    "#string to number\n",
    "exp=exp.apply(pd.to_numeric, errors='coerce')\n",
    "#dataframe to array\n",
    "exp_arr=exp.as_matrix()\n",
    "\n",
    "#We didn't simulate the peak at 5.00 degrees, so start from 5.04\n",
    "exp_arr=exp_arr[1:,:]\n",
    "\n",
    "#normalization\n",
    "ntheor = normdata (theor_arr)\n",
    "nexp = normdata (exp_arr)"
   ]
  },
  {
   "cell_type": "markdown",
   "metadata": {},
   "source": [
    "What is the shape of this matrix after normlization? (in othere words, what are the available experimental data size)"
   ]
  },
  {
   "cell_type": "code",
   "execution_count": 179,
   "metadata": {},
   "outputs": [
    {
     "data": {
      "text/plain": [
       "(3248, 73)"
      ]
     },
     "execution_count": 179,
     "metadata": {},
     "output_type": "execute_result"
    }
   ],
   "source": [
    "nexp.shape"
   ]
  },
  {
   "cell_type": "markdown",
   "metadata": {},
   "source": [
    "## 2. Data preprocessing\n",
    "### Trim the data\n",
    "Since not all the data has the same range(2theta angles), we need to unify the range "
   ]
  },
  {
   "cell_type": "code",
   "execution_count": 180,
   "metadata": {},
   "outputs": [],
   "source": [
    "#define the range for spectrum (this is to unify the measurement range)\n",
    "exp_min = 0\n",
    "exp_max = 1350\n",
    "theor_min = 0\n"
   ]
  },
  {
   "cell_type": "markdown",
   "metadata": {},
   "source": [
    "We can plot  the measured spectra"
   ]
  },
  {
   "cell_type": "code",
   "execution_count": 181,
   "metadata": {
    "collapsed": true
   },
   "outputs": [
    {
     "data": {
      "image/png": "[encoded data removed]",
      "text/plain": [
       "<Figure size 432x288 with 1 Axes>"
      ]
     },
     "metadata": {},
     "output_type": "display_data"
    }
   ],
   "source": [
    "plt.plot(exp_arr[exp_min:exp_max,0],exp_arr[exp_min:exp_max,3],label='Experimental data')\n",
    "plt.xlabel('2theta angle[degrees]')\n",
    "plt.ylabel('Intensity [a.u.]')\n",
    "plt.show()"
   ]
  },
  {
   "cell_type": "markdown",
   "metadata": {},
   "source": [
    "### Background and noise subtraction\n",
    "window size is a hyperparamtere that we can change to determine the width of peaks. We call a function which is previouly defined(exp_data_processing) to remove the measurement noise and singals from the substrate"
   ]
  },
  {
   "cell_type": "code",
   "execution_count": 182,
   "metadata": {},
   "outputs": [],
   "source": [
    "#window size for experimental data extraction\n",
    "window =15\n",
    "theor_max = theor_min+exp_max-exp_min\n",
    "#experimetal data input\n",
    "post_exp= normdatasingle(exp_data_processing (nexp,exp_min,exp_max,window))"
   ]
  },
  {
   "cell_type": "markdown",
   "metadata": {},
   "source": [
    "Let's plot the experimetal spectra again after data post-processing"
   ]
  },
  {
   "cell_type": "code",
   "execution_count": 183,
   "metadata": {
    "collapsed": true
   },
   "outputs": [
    {
     "data": {
      "image/png": "[encoded data removed]",
      "text/plain": [
       "<Figure size 432x288 with 2 Axes>"
      ]
     },
     "metadata": {},
     "output_type": "display_data"
    }
   ],
   "source": [
    "fig ,ax1 = plt.subplots()\n",
    "ax1.plot(exp_arr[exp_min:exp_max,0],exp_arr[exp_min:exp_max,3])\n",
    "ax1.set_xlabel('2theta angle[degrees]')\n",
    "ax1.set_ylabel('Intensity [a.u.]')\n",
    "ax2 = ax1.twinx()\n",
    "ax2.plot(exp_arr[exp_min:exp_max,0],post_exp[:,1],color ='r')\n",
    "ax2.set_ylabel('Normalized Intensity [a.u.]')\n",
    "fig.tight_layout()\n",
    "plt.legend(['Post processing'])\n",
    "plt.show()"
   ]
  },
  {
   "cell_type": "markdown",
   "metadata": {},
   "source": [
    "## 3. Data agumentation \n",
    "\n",
    "Let's augment the data for the theorectical dataset first\n",
    "\n",
    "Specify how many data points we augmented for theorectical and experimental data"
   ]
  },
  {
   "cell_type": "code",
   "execution_count": 204,
   "metadata": {},
   "outputs": [],
   "source": [
    "#let's start to do the data augmentation.\n",
    "theor_aug_num = 1000\n",
    "exp_aug_num = 1000\n",
    "augd,pard,crop_augd = augdata(ntheor,theor_aug_num,theor,theor_min,theor_max,theor_labels)\n",
    "\n"
   ]
  },
  {
   "cell_type": "markdown",
   "metadata": {},
   "source": [
    "Plot augmented data"
   ]
  },
  {
   "cell_type": "code",
   "execution_count": 205,
   "metadata": {
    "collapsed": true
   },
   "outputs": [
    {
     "data": {
      "image/png": "[encoded data removed]",
      "text/plain": [
       "<Figure size 432x288 with 2 Axes>"
      ]
     },
     "metadata": {},
     "output_type": "display_data"
    }
   ],
   "source": [
    "rnd = 0#np.random.randint(0,100)\n",
    "plt.subplot(2, 1, 1)\n",
    "plt.plot(theor_arr[theor_min:theor_max,0],ntheor[theor_min:theor_max,(rnd)],label='Original')\n",
    "plt.legend(loc='upper left')\n",
    "plt.subplot(2, 1, 2)\n",
    "plt.plot(theor_arr[theor_min:theor_max,0],crop_augd[:,(rnd)],label='After augmentation',color='r')\n",
    "\n",
    "plt.legend(loc='upper left')\n",
    "plt.show()"
   ]
  },
  {
   "cell_type": "markdown",
   "metadata": {},
   "source": [
    "Now we augmented the spectra both for experiment and theory from ~200 to 2000!\n",
    "\n",
    "We should add labels to those augmented spectra "
   ]
  },
  {
   "cell_type": "code",
   "execution_count": 206,
   "metadata": {},
   "outputs": [],
   "source": [
    "#convert theorectical label from dimensionality to numbers\n",
    "directory = ['0','2','3']\n",
    "label_t=np.zeros([len(pard),])\n",
    "for i in range(len(pard)): \n",
    "    temp = pard[i]\n",
    "    label_t[i]=directory.index(temp[0])\n",
    "\n",
    "#convert experimental label from dimensionality to numbers\n",
    "\n",
    "par_exp = exp_labels\n",
    "\n",
    "label_exp=np.zeros([len(par_exp)//2,])\n",
    "\n",
    "for i in range(len(par_exp)//2):\n",
    "\n",
    "    temp = par_exp[2*i]\n",
    "    label_exp[i]=directory.index(temp[0])"
   ]
  },
  {
   "cell_type": "markdown",
   "metadata": {},
   "source": [
    "## 4 Classification and cross validation using various ML algorithms"
   ]
  },
  {
   "cell_type": "markdown",
   "metadata": {},
   "source": [
    "After data extraction, data preprocessing and data augmentation. We have ~2000 spectra now as an Input to train our machine learning algorithm. We can use part of those spectra to fine tune these hyperparameters and test the \"untouched\" spectra . The test  was done in the paper and will not be conducted here for the sake of time\n",
    "Let's determine how many spectra we want to use to do a cross validation for our machine learning algorithm."
   ]
  },
  {
   "cell_type": "code",
   "execution_count": 207,
   "metadata": {},
   "outputs": [],
   "source": [
    "#define the number of experimetal spectra we use for a N flold cross validation\n",
    "exp_num =60  \n",
    "X_exp = np.transpose(post_exp[:,0:exp_num])\n",
    "y_exp = label_exp[0:exp_num]\n",
    "#train and test split for the experimental data\n",
    "#X_train_exp, X_test_exp, y_train_exp, y_test_exp = train_test_split(X_exp\n",
    "      #  ,y_exp , test_size=0.33,random_state=1)\n",
    "\n",
    "\n",
    "\n",
    "#train and test split for the theorectical data\n",
    "X_th = np.transpose(crop_augd )\n",
    "y_th = label_t\n",
    "#X_train_th, X_test_th, y_train_th, y_test_th = train_test_split( \n",
    "       # X_th, y_th, test_size=0.33,random_state=1)\n"
   ]
  },
  {
   "cell_type": "markdown",
   "metadata": {},
   "source": [
    "Split the data to N folds ---(N-1)/N% training, 1/N% test) "
   ]
  },
  {
   "cell_type": "code",
   "execution_count": 208,
   "metadata": {},
   "outputs": [],
   "source": [
    "n_fold = 5\n",
    "from sklearn.model_selection import KFold\n",
    "k_fold = KFold(n_splits=n_fold, shuffle=True,random_state=30)"
   ]
  },
  {
   "cell_type": "markdown",
   "metadata": {},
   "source": [
    "choose your favorate machine learning algorithem"
   ]
  },
  {
   "cell_type": "code",
   "execution_count": 209,
   "metadata": {},
   "outputs": [],
   "source": [
    "test_classifier = ['RF']\n",
    "classifiers = {'NB':naive_bayes_classifier,   \n",
    "                   'KNN' :knn_classifier, \n",
    "                   'LR':logistic_regression_classifier,  \n",
    "                   'RF':random_forest_classifier,  \n",
    "                   'DT':decision_tree_classifier,  \n",
    "                   'SVM':svm_classifier,                    \n",
    "                   'GBDT':gradient_boosting_classifier,\n",
    "                   'NN':mlp_classifier\n",
    "    }  "
   ]
  },
  {
   "cell_type": "code",
   "execution_count": 210,
   "metadata": {
    "collapsed": true
   },
   "outputs": [
    {
     "name": "stdout",
     "output_type": "stream",
     "text": [
      "******************* ['RF'] ********************\n",
      "accuracy_exp: 75.00%\n",
      "accuracy_exp: 41.67%\n",
      "accuracy_exp: 58.33%\n",
      "accuracy_exp: 66.67%\n",
      "accuracy_exp: 58.33%\n"
     ]
    }
   ],
   "source": [
    "accuracy_exp = np.empty((n_fold,1)) \n",
    "start_time = time.time()   \n",
    "for classifier in test_classifier: \n",
    "    print ('******************* %s ********************' % test_classifier)\n",
    "    for k, (train, test) in enumerate(k_fold.split(X_exp, y_exp)):       \n",
    "           \n",
    "            #data augmentation to experimenal traning dataset\n",
    "            temp_x = X_exp[train]\n",
    "            temp_y = y_exp[train]\n",
    "            exp_train_x,exp_train_y = exp_augdata(temp_x.T,exp_aug_num ,temp_y)\n",
    "            #combine theorectical and experimenal dataset for training\n",
    "            train_combine = np.concatenate((X_th,exp_train_x.T))\n",
    "            train_y = np.concatenate((y_th,exp_train_y))\n",
    "             \n",
    "            model = classifiers[classifier](train_combine, train_y)  \n",
    "    \n",
    "            #predict experimental prediction accuracy\n",
    "            predict_exp = model.predict(X_exp[test])        \n",
    "            accuracy_exp[k] = accuracy_score(y_exp[test], predict_exp)  \n",
    "            print ('accuracy_exp: %.2f%%' % (100 * accuracy_exp[k]))\n",
    "            # 5 fold cross validation"
   ]
  },
  {
   "cell_type": "code",
   "execution_count": 211,
   "metadata": {
    "scrolled": true
   },
   "outputs": [
    {
     "name": "stdout",
     "output_type": "stream",
     "text": [
      "CV  took 6.113331s!\n",
      "Cross-validation results:\n",
      "Folds: 5, mean acc: 0.600\n"
     ]
    }
   ],
   "source": [
    "print ('CV  took %fs!' % (time.time() - start_time) )\n",
    "print('Cross-validation results:')\n",
    "print('Folds: %i, mean acc: %.3f' % (len(accuracy_exp), np.mean(np.abs(accuracy_exp))))"
   ]
  },
  {
   "cell_type": "markdown",
   "metadata": {},
   "source": [
    "We can fine tune the hyperparameters in both the classifers and data preproessing&augmentation for each method we tried. We find a three layer DNN performs better than other classifiers for both cross validation and newly synthezied validation dataset."
   ]
  }
 ],
 "metadata": {
  "anaconda-cloud": {},
  "kernelspec": {
   "display_name": "Python 3",
   "language": "python",
   "name": "python3"
  },
  "language_info": {
   "codemirror_mode": {
    "name": "ipython",
    "version": 3
   },
   "file_extension": ".py",
   "mimetype": "text/x-python",
   "name": "python",
   "nbconvert_exporter": "python",
   "pygments_lexer": "ipython3",
   "version": "3.7.0"
  }
 },
 "nbformat": 4,
 "nbformat_minor": 2
}
